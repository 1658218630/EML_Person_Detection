{
 "cells": [
  {
   "cell_type": "code",
   "execution_count": 1,
   "id": "56579f70-5536-47d1-978b-234d00cd5159",
   "metadata": {},
   "outputs": [
    {
     "name": "stderr",
     "output_type": "stream",
     "text": [
      "/Users/yezeling/miniforge3/envs/myenv/lib/python3.10/site-packages/torchvision/io/image.py:14: UserWarning: Failed to load image Python extension: 'dlopen(/Users/yezeling/miniforge3/envs/myenv/lib/python3.10/site-packages/torchvision/image.so, 0x0006): Library not loaded: @rpath/libjpeg.9.dylib\n",
      "  Referenced from: <0B7EB158-53DC-3403-8A49-22178CAB4612> /Users/yezeling/miniforge3/envs/myenv/lib/python3.10/site-packages/torchvision/image.so\n",
      "  Reason: tried: '/Users/yezeling/miniforge3/envs/myenv/lib/python3.10/site-packages/torchvision/../../../libjpeg.9.dylib' (no such file), '/Users/yezeling/miniforge3/envs/myenv/lib/python3.10/site-packages/torchvision/../../../libjpeg.9.dylib' (no such file), '/Users/yezeling/miniforge3/envs/myenv/lib/python3.10/lib-dynload/../../libjpeg.9.dylib' (no such file), '/Users/yezeling/miniforge3/envs/myenv/bin/../lib/libjpeg.9.dylib' (no such file)'If you don't plan on using image functionality from `torchvision.io`, you can ignore this warning. Otherwise, there might be something wrong with your environment. Did you have `libjpeg` or `libpng` installed before building `torchvision` from source?\n",
      "  warn(\n"
     ]
    }
   ],
   "source": [
    "import torch\n",
    "\n",
    "from utils.dataloader import VOCDataLoaderPerson\n",
    "loader = VOCDataLoaderPerson(train=False, batch_size=1)"
   ]
  },
  {
   "cell_type": "code",
   "execution_count": 2,
   "id": "28dbbcc4-ea9d-4363-b955-d4f2dd212566",
   "metadata": {},
   "outputs": [
    {
     "name": "stderr",
     "output_type": "stream",
     "text": [
      "100%|████████████████████████████████████████| 2232/2232 [00:07<00:00, 302.59it/s]"
     ]
    },
    {
     "name": "stdout",
     "output_type": "stream",
     "text": [
      "Collected 5045 boxes in total\n"
     ]
    },
    {
     "name": "stderr",
     "output_type": "stream",
     "text": [
      "\n"
     ]
    }
   ],
   "source": [
    "import matplotlib.pyplot as plt\n",
    "import torchvision.transforms.functional as F\n",
    "import tqdm\n",
    "\n",
    "all_wh = []\n",
    "for img_id, (img, target) in tqdm.tqdm(enumerate(loader), total=len(loader)):\n",
    "    # target shape: [batch_size, num_box, 6], e.g. (x,y,w,h, obj_confidence, class_id)\n",
    "    batch_size = target.shape[0]\n",
    "    for b in range(batch_size):\n",
    "        # Get valided box: class_id >=0\n",
    "        valid_mask = (target[b, :, -1] >= 0)\n",
    "        gt_b = target[b, valid_mask]\n",
    "\n",
    "        # If there is no valid box => skip\n",
    "        if gt_b.shape[0] == 0:\n",
    "            continue\n",
    "        \n",
    "        # Get w,h\n",
    "        w = gt_b[:, 2]\n",
    "        h = gt_b[:, 3]\n",
    "\n",
    "        for i in range(w.shape[0]):\n",
    "            all_wh.append((w[i].item(), h[i].item()))\n",
    "print(f\"Collected {len(all_wh)} boxes in total\")\n",
    "\n",
    "\n"
   ]
  },
  {
   "cell_type": "code",
   "execution_count": 3,
   "id": "729aab38-7711-41db-845c-562437818efd",
   "metadata": {},
   "outputs": [],
   "source": [
    "import numpy as np\n",
    "\n",
    "def iou(box, cluster):\n",
    "    \"\"\"\n",
    "    Calculate the IoU of the box and the cluster (w,h) (assuming that the box and cluster are in the form of upper left corner (0,0) and lower right corner (w,h))\n",
    "    box: shape (2,) => (w, h)\n",
    "    cluster: shape (k,2) => [[w1,h1],\n",
    "                             [w2,h2],\n",
    "                             ...\n",
    "                             [wk,hk]]\n",
    "    return: shape (k,)，The IoU between the box and each cluster.\n",
    "    \"\"\"\n",
    "    # box area\n",
    "    box_area = box[0] * box[1]\n",
    "    # cluster areas\n",
    "    cluster_area = cluster[:, 0] * cluster[:, 1]\n",
    "    \n",
    "    # min_w, min_h\n",
    "    min_w = np.minimum(box[0], cluster[:, 0])\n",
    "    min_h = np.minimum(box[1], cluster[:, 1])\n",
    "    \n",
    "    inter_area = min_w * min_h\n",
    "    ious = inter_area / (box_area + cluster_area - inter_area + 1e-9)  \n",
    "    return ious"
   ]
  },
  {
   "cell_type": "code",
   "execution_count": 4,
   "id": "83c9f0f9-d875-4171-8d20-4b09a6c04a2c",
   "metadata": {},
   "outputs": [],
   "source": [
    "def iou_distance(boxes, clusters):\n",
    "    \"\"\"\n",
    "    Calculate the distance matrix between boxes and clusters: dist = 1 - IoU\n",
    "    boxes: shape (N,2)\n",
    "    clusters: shape (k,2)\n",
    "    return: shape (N,k)，Represents the 1-IoU between the i-th row box and the j-th cluster\n",
    "    \"\"\"\n",
    "    N = boxes.shape[0]\n",
    "    k = clusters.shape[0]\n",
    "    dist = np.zeros((N, k), dtype=np.float32)\n",
    "    for i in range(N):\n",
    "        ious = iou(boxes[i], clusters)\n",
    "        dist[i] = 1 - ious\n",
    "    return dist"
   ]
  },
  {
   "cell_type": "code",
   "execution_count": 5,
   "id": "3ca893a8-b1a5-41d2-a993-8ac84429b9f0",
   "metadata": {},
   "outputs": [],
   "source": [
    "def kmeans_iou(boxes, k=5, max_iter=100, seed=666):\n",
    "    \"\"\"\n",
    "    Use IoU distance to do k-means clustering and get k anchors (w,h)\n",
    "    boxes: np.array, shape (N,2)，Each line is [w,h]\n",
    "    k: Number of clusters\n",
    "    \n",
    "    return: The cluster centers with shape (k,2)\n",
    "    \"\"\"\n",
    "    np.random.seed(seed)\n",
    "    N = boxes.shape[0]\n",
    "    \n",
    "    # Randomly initialize k centers (randomly select k from the boxes)\n",
    "    init_indices = np.random.choice(N, k, replace=False)\n",
    "    clusters = boxes[init_indices].copy()\n",
    "    \n",
    "    last_nearest = None\n",
    "    \n",
    "    for it in range(max_iter):\n",
    "        # Calculate distance => shape (N,k)\n",
    "        dist = iou_distance(boxes, clusters)\n",
    "        \n",
    "        # For each box, find the closest (smallest distance) cluster index\n",
    "        current_nearest = np.argmin(dist, axis=1)\n",
    "        \n",
    "        # If it is exactly the same as the previous allocation, it means convergence => break\n",
    "        if last_nearest is not None and np.all(current_nearest == last_nearest):\n",
    "            break\n",
    "        last_nearest = current_nearest\n",
    "        \n",
    "        # Update the center of each cluster according to the allocation\n",
    "        for c in range(k):\n",
    "            # Find all boxes belonging to class c\n",
    "            mask = (current_nearest == c)\n",
    "            if np.sum(mask) == 0:\n",
    "                continue  # If this cluster does not have a box, keep it as is or reselect it.\n",
    "            \n",
    "            cluster_boxes = boxes[mask]\n",
    "            clusters[c] = np.mean(cluster_boxes, axis=0)\n",
    "    \n",
    "    return clusters"
   ]
  },
  {
   "cell_type": "code",
   "execution_count": 16,
   "id": "32aa0e4f-6f21-4f32-a25a-658389fff120",
   "metadata": {},
   "outputs": [],
   "source": [
    "def avg_iou(boxes, clusters):\n",
    "    \"\"\"\n",
    "    Calculate the average IoU between the boxes and the cluster they are assigned to\n",
    "    \"\"\"\n",
    "    dist = iou_distance(boxes, clusters)  # shape (N,k)\n",
    "    nearest = np.argmin(dist, axis=1)\n",
    "    ious_sum = 0.0\n",
    "    for i in range(boxes.shape[0]):\n",
    "        c = nearest[i]\n",
    "        # 1 - dist[i,c] = IoU\n",
    "        iou_val = 1 - dist[i, c]\n",
    "        ious_sum += iou_val\n",
    "    return ious_sum / boxes.shape[0]"
   ]
  },
  {
   "cell_type": "code",
   "execution_count": 32,
   "id": "c778cbbe-1d6e-4711-9894-9ea8f2f1b5ac",
   "metadata": {},
   "outputs": [
    {
     "name": "stdout",
     "output_type": "stream",
     "text": [
      "5045\n",
      "2\n",
      "(5045, 2)\n"
     ]
    }
   ],
   "source": [
    "print(len(all_wh))\n",
    "print(len(all_wh[0]))\n",
    "boxes = np.array(all_wh, dtype=np.float32) \n",
    "print(boxes.shape)"
   ]
  },
  {
   "cell_type": "code",
   "execution_count": 44,
   "id": "dec08b53-306e-4fac-9462-ffd0c1cd093d",
   "metadata": {},
   "outputs": [
    {
     "name": "stdout",
     "output_type": "stream",
     "text": [
      "K-means anchors:\n",
      "[[0.39765027 0.5792138 ]\n",
      " [0.04936575 0.09369813]\n",
      " [0.12444213 0.25251988]\n",
      " [0.6931115  0.72179604]\n",
      " [0.22943892 0.44076216]]\n",
      "Average IoU with these anchors: 0.632892970960842\n"
     ]
    }
   ],
   "source": [
    "k = 5\n",
    "anchors = kmeans_iou(boxes, k=k, max_iter=100, seed=666)\n",
    "print(\"K-means anchors:\")\n",
    "print(anchors)\n",
    "score = avg_iou(boxes, anchors)\n",
    "print(\"Average IoU with these anchors:\", score)"
   ]
  },
  {
   "cell_type": "code",
   "execution_count": 43,
   "id": "92f66341-a300-4040-881c-600522b751dc",
   "metadata": {},
   "outputs": [
    {
     "name": "stdout",
     "output_type": "stream",
     "text": [
      "K-means anchors:\n",
      "[[0.48963717 0.7219764 ]\n",
      " [0.12734953 0.2878153 ]\n",
      " [0.08295543 0.15192717]\n",
      " [0.7726421  0.73322475]\n",
      " [0.18190207 0.48115298]\n",
      " [0.46931577 0.45483983]\n",
      " [0.03759469 0.07182477]\n",
      " [0.30879277 0.5884212 ]\n",
      " [0.26364553 0.29661068]]\n",
      "Average IoU with these anchors: 0.6937220038105877\n"
     ]
    }
   ],
   "source": [
    "k = 9\n",
    "anchors = kmeans_iou(boxes, k=k, max_iter=100, seed=666)\n",
    "print(\"K-means anchors:\")\n",
    "print(anchors)\n",
    "score = avg_iou(boxes, anchors)\n",
    "print(\"Average IoU with these anchors:\", score)"
   ]
  },
  {
   "cell_type": "code",
   "execution_count": 35,
   "id": "c71ef944-0302-4cb0-836c-56d1726120d4",
   "metadata": {},
   "outputs": [
    {
     "name": "stdout",
     "output_type": "stream",
     "text": [
      "<class 'tuple'>\n",
      "(5, 2)\n",
      "Average IoU with original anchors in loss.py: 0.09935919823802498\n"
     ]
    }
   ],
   "source": [
    "original_anchors=(\n",
    "                (1.08, 1.19),\n",
    "                (3.42, 4.41),\n",
    "                (6.63, 11.38),\n",
    "                (9.42, 5.11),\n",
    "                (16.62, 10.52))\n",
    "print(type(original_anchors))\n",
    "\n",
    "original_anchors = np.array(anchors, dtype=np.float32) \n",
    "print(original_anchors.shape)\n",
    "\n",
    "score = avg_iou(boxes, original_anchors)\n",
    "print(\"Average IoU with original anchors in loss.py:\", score)"
   ]
  },
  {
   "cell_type": "code",
   "execution_count": 29,
   "id": "37af1809-0d73-4dbf-a67f-a309a21e6b49",
   "metadata": {},
   "outputs": [
    {
     "name": "stdout",
     "output_type": "stream",
     "text": [
      "<class 'tuple'>\n"
     ]
    }
   ],
   "source": [
    "anchors=(\n",
    "    (0.39765027, 0.5792138),\n",
    "        (0.04936575, 0.09369813),\n",
    "        (0.12444213, 0.25251988),\n",
    "        (0.6931115,  0.72179604),\n",
    "        (0.22943892, 0.44076216))\n",
    "print(type(anchors))"
   ]
  },
  {
   "cell_type": "code",
   "execution_count": null,
   "id": "2d50d24a-f42b-4cd5-a7e6-8655522c4792",
   "metadata": {},
   "outputs": [],
   "source": []
  }
 ],
 "metadata": {
  "kernelspec": {
   "display_name": "Python 3 (ipykernel)",
   "language": "python",
   "name": "python3"
  },
  "language_info": {
   "codemirror_mode": {
    "name": "ipython",
    "version": 3
   },
   "file_extension": ".py",
   "mimetype": "text/x-python",
   "name": "python",
   "nbconvert_exporter": "python",
   "pygments_lexer": "ipython3",
   "version": "3.10.15"
  }
 },
 "nbformat": 4,
 "nbformat_minor": 5
}
